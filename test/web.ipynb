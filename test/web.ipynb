{
 "cells": [
  {
   "cell_type": "code",
   "execution_count": null,
   "id": "c287035a",
   "metadata": {},
   "outputs": [
    {
     "ename": "",
     "evalue": "",
     "output_type": "error",
     "traceback": [
      "\u001b[1;31m无法启动 Kernel。 \n",
      "\u001b[1;31m由于等待端口使用超时，无法启动内核 \"new_env (Python 3.9.19)\"。 \n",
      "\u001b[1;31m查看 Jupyter <a href='command:jupyter.viewOutput'>log</a>，了解更多详细信息。"
     ]
    }
   ],
   "source": [
    "import requests\n",
    "\n",
    "url = \"https://music.163.com/\"\n",
    "\n",
    "headers = {\n",
    "    'referer': 'https://cn.bing.com/',\n",
    "    'user-agent': 'Mozilla/5.0 (Windows NT 10.0; Win64; x64) AppleWebKit/537.36 (KHTML, like Gecko) Chrome/138.0.0.0 Safari/537.36'\n",
    "}\n",
    "\n",
    "# Cookies 字典\n",
    "# cookies = {\n",
    "#     '_iuqxldmzr_': '32',\n",
    "#     '_ntes_nnid': 'a823a47c6f9ac9c848cecd5eeed983d4,1751350617046',\n",
    "#     '_ntes_nuid': 'a823a47c6f9ac9c848cecd5eeed983d4',\n",
    "#     'NMTID': '00O_Zvx-FzuzUtedUzzsSI6oh2y2MoAAAGXxJ8LDw',\n",
    "#     'WEVNSM': '1.0.0',\n",
    "#     'WNMCID': 'ajbrxp.1751350619110.01.0',\n",
    "#     'WM_NI': 'U/GGlzh3x6taCBspZJUzxkwVMeB53spt/8C81jwe1YpT0ykjd3Rq3HW1fCRTsglTxzGfJcneIwfLmKnIbH6ljwoYH1MRR3pzjeuY86c5ifttaWDApcQ30nTNbFHEGsy/QmU=',\n",
    "#     'WM_NIKE': '9ca17ae2e6ffcda170e2e6eea5cc6af8ac8296ce3ea79e8ba2d44b939b9facd26bb38a008daa4081b69f87cc2af0fea7c3b92a97f189a8ef72acedb8d7f76b819ebd91d94297a6b88cf65e8fbb8ed6b279b4ace1d9c234f3b6b986b453b48c009aea62a8ed9e92b24495efaaa4d160b1b9a4b5fb7285ba8684ed6f8ba9aaadf041ae97aea9b568aaa9a1bacb3b8f8e9ed4f372aabbbbbabb3ea1eba787f780a3898ca2f36993ed008fd746a29a88a6c679bbf19f8ed837e2a3',\n",
    "#     'WM_TID': 'hsXGgINJSsRAEBURVFeTP+BB0l+8HzQac',\n",
    "#     'ntes_utid': 'tid._.Qx5zPvBR3YZBQxFUARbSf6Eggu5Hp0U6._.0',\n",
    "#     'sDeviceId': 'YD-lM1i+2vuDFpAR1AVVQPCKuUk0rtS4gVv',\n",
    "#     'JSESSIONID-WYYY': 'vuzZY3WT9Qn8Y692XRBkvZoHG4f/ljfyQpFWk2e9ucWt28tspBguSOKYiJEVdtR+FI1RjWoTdKQzzNIrBG3cjMvrAWgMR85PdgM3Z64Do9k1zz0g0RYK1REHZR%5Cl175yru/M7Y4t1A3Ho6XmquFJ6a1caMoSdOY/eIT9%5Ct1Izof8fSRK%3A1751370734098'\n",
    "# }\n",
    "\n",
    "# 发送 GET 请求\n",
    "response = requests.get('https://music.163.com/', headers=headers, cookies=None)\n",
    "\n",
    "# 打印响应内容\n",
    "print(response.status_code)\n",
    "print(response.text)\n"
   ]
  },
  {
   "cell_type": "code",
   "execution_count": null,
   "id": "d4d3f652",
   "metadata": {},
   "outputs": [
    {
     "ename": "",
     "evalue": "",
     "output_type": "error",
     "traceback": [
      "\u001b[1;31m无法启动 Kernel。 \n",
      "\u001b[1;31m由于等待端口使用超时，无法启动内核 \"new_env (Python 3.9.19)\"。 \n",
      "\u001b[1;31m查看 Jupyter <a href='command:jupyter.viewOutput'>log</a>，了解更多详细信息。"
     ]
    }
   ],
   "source": [
    "'你好' .encode('utf-8')'"
   ]
  },
  {
   "cell_type": "code",
   "execution_count": null,
   "id": "8d2ddd09",
   "metadata": {},
   "outputs": [],
   "source": []
  }
 ],
 "metadata": {
  "kernelspec": {
   "display_name": "new_env",
   "language": "python",
   "name": "python3"
  },
  "language_info": {
   "name": "python",
   "version": "3.9.19"
  }
 },
 "nbformat": 4,
 "nbformat_minor": 5
}
