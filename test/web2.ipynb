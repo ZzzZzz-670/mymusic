{
 "cells": [
  {
   "cell_type": "code",
   "execution_count": null,
   "id": "8a18a17c",
   "metadata": {},
   "outputs": [
    {
     "ename": "",
     "evalue": "",
     "output_type": "error",
     "traceback": [
      "\u001b[1;31m无法启动 Kernel。 \n",
      "\u001b[1;31m由于等待端口使用超时，无法启动内核 \"base (Python 3.12.4)\"。 \n",
      "\u001b[1;31m查看 Jupyter <a href='command:jupyter.viewOutput'>log</a>，了解更多详细信息。"
     ]
    }
   ],
   "source": [
    "import requests\n",
    "\n",
    "\n",
    "url = \"https://music.163.com/\"\n",
    "\n",
    "headers = {\n",
    "    'referer': 'https://cn.bing.com/',\n",
    "    'user-agent': 'Mozilla/5.0 (Windows NT 10.0; Win64; x64) AppleWebKit/537.36 (KHTML, like Gecko) Chrome/138.0.0.0 Safari/537.36'\n",
    "}\n",
    "\n",
    "\n",
    "\n",
    "# 发送 GET 请求\n",
    "response = requests.get('https://music.163.com/', headers=headers, cookies=None)\n",
    "\n",
    "# 打印响应内容\n",
    "print(response.status_code)\n",
    "# print(response.text)\n",
    "\n",
    "response.text\n"
   ]
  },
  {
   "cell_type": "code",
   "execution_count": null,
   "id": "ec0cfd20",
   "metadata": {},
   "outputs": [],
   "source": []
  }
 ],
 "metadata": {
  "kernelspec": {
   "display_name": "base",
   "language": "python",
   "name": "python3"
  },
  "language_info": {
   "name": "python",
   "version": "3.12.4"
  }
 },
 "nbformat": 4,
 "nbformat_minor": 5
}
