{
 "cells": [
  {
   "cell_type": "code",
   "execution_count": null,
   "id": "305eb97d",
   "metadata": {},
   "outputs": [
    {
     "ename": "",
     "evalue": "",
     "output_type": "error",
     "traceback": [
      "\u001b[1;31m无法启动 Kernel。 \n",
      "\u001b[1;31m由于等待端口使用超时，无法启动内核 \"base (Python 3.12.4)\"。 \n",
      "\u001b[1;31m查看 Jupyter <a href='command:jupyter.viewOutput'>log</a>，了解更多详细信息。"
     ]
    }
   ],
   "source": [
    "print('aa')"
   ]
  },
  {
   "cell_type": "code",
   "execution_count": null,
   "id": "e67a1688",
   "metadata": {},
   "outputs": [],
   "source": []
  }
 ],
 "metadata": {
  "kernelspec": {
   "display_name": "base",
   "language": "python",
   "name": "python3"
  },
  "language_info": {
   "name": "python",
   "version": "3.12.4"
  }
 },
 "nbformat": 4,
 "nbformat_minor": 5
}
